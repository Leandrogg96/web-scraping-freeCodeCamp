{
 "cells": [
  {
   "cell_type": "markdown",
   "id": "c37aad50-4ce8-492f-9f88-d4a877de085d",
   "metadata": {},
   "source": [
    "# Web Scraping"
   ]
  },
  {
   "cell_type": "markdown",
   "id": "ef456117-5548-4183-929c-c5059e0afb03",
   "metadata": {},
   "source": [
    "## 1. ¿Que es el Web Scrapring?\n",
    "- Web Scraping:\n",
    "    Es la practica de recopilar datos mediante un programa automatizado que consulta un servidor web. En otras palabras, un codigo que va a realizar peticiones a un determinado servidor y extraer la informacion de un tipo de dato dentro de la pagina. El tipo de informacion a extraer puede ser de cualquier tipo como por ejemplo texto, audio, imagenes, etc.\n",
    "- Web Crawling:\n",
    "    Se utiliza para indexar la informacion de una pagina mediante bots. El objetivo de esto es entrar a todos los hipervinculos o paginas dentro de una pagina y obtener toda la informacion. Un ejemplo de esto es el bot de google que indexa las paginas y asi cuando se realice una busqueda pueda realizar la recomendacion de una pagina para dicha peticion.\n",
    "- Observacion:\n",
    "    La diferencia entre ambas es que cuando realizamos WebScraping buscamos algun tipo de dato en particular, por ejemplo si lo realizamos en una pagina de venta de ropa online, intentamos obtener unicamente la descripcion de los precios de la ropa que ofrecen, por el contrario, el WebCrawling, traeremos toda la informacion de la pagina."
   ]
  },
  {
   "cell_type": "markdown",
   "id": "6c0a69ba-e01b-4616-b827-7deeeadeb6af",
   "metadata": {},
   "source": [
    "## 2. ¿Que es una API?\n",
    "API corresponde a las siglas \"Interfaz de programacion de aplicaciones\". Es un proveedor de acceso a los datos de una aplicacion, sistema operativo u otro servicio. En ocaciones las paginas o servidores proporcionan una API con el objetivo de controlar la transaccion de la informacion solicitada."
   ]
  },
  {
   "cell_type": "markdown",
   "id": "a937c318-c355-4f57-9c79-fcfe0f39df68",
   "metadata": {},
   "source": [
    "## 3. API vs Web Scraping\n",
    "- Las API's son mas sencillas de utilizar a la hora de recopilar informacion de manera mas limpia y a la hora de hacer pedidos especificos.\n",
    "- Cuando querramos obtener informacion de un sitio en especifico deberemos verificar si posee una API publica, en caso de que no, la unica manera de obtener la informacion es Scrapear.\n",
    "- Si la API es limitada en cuanto a cantidad de pedidos o bien los datos de interes no son posibles obtenerlos a trasves de esta, deberemos Scrapear.\n",
    "- En el caso de que la API cumpla con nuestros requerimientos, no necesitaremos Srapear."
   ]
  },
  {
   "cell_type": "code",
   "execution_count": null,
   "id": "c491f648-72c5-4753-8677-44766bae8726",
   "metadata": {},
   "outputs": [],
   "source": []
  }
 ],
 "metadata": {
  "kernelspec": {
   "display_name": "Python 3 (ipykernel)",
   "language": "python",
   "name": "python3"
  },
  "language_info": {
   "codemirror_mode": {
    "name": "ipython",
    "version": 3
   },
   "file_extension": ".py",
   "mimetype": "text/x-python",
   "name": "python",
   "nbconvert_exporter": "python",
   "pygments_lexer": "ipython3",
   "version": "3.12.4"
  }
 },
 "nbformat": 4,
 "nbformat_minor": 5
}
